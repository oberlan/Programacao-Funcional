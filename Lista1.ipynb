{
  "nbformat": 4,
  "nbformat_minor": 0,
  "metadata": {
    "colab": {
      "name": "Lista1.ipynb",
      "version": "0.3.2",
      "provenance": []
    },
    "kernelspec": {
      "name": "python3",
      "display_name": "Python 3"
    }
  },
  "cells": [
    {
      "metadata": {
        "id": "YSNTDQNaLxUl",
        "colab_type": "text"
      },
      "cell_type": "markdown",
      "source": [
        "# 1."
      ]
    },
    {
      "metadata": {
        "id": "8UikPykQLtPj",
        "colab_type": "code",
        "colab": {
          "base_uri": "https://localhost:8080/",
          "height": 51
        },
        "outputId": "f38d9575-230e-4c7c-dcdc-b44acbc9bd0e"
      },
      "cell_type": "code",
      "source": [
        "tempFahrenheit = float(input(\"Digite a temperatura em Fahrenheit: \"))\n",
        "tempCelsius = (tempFahrenheit - 32)/1.8\n",
        "print(\"{0:.2f}*F = {1:.2f}*C\".format(tempFahrenheit, tempCelsius))"
      ],
      "execution_count": 4,
      "outputs": [
        {
          "output_type": "stream",
          "text": [
            "Digite a temperatura em Fahrenheit: 10\n",
            "10.00*F = -12.22*C\n"
          ],
          "name": "stdout"
        }
      ]
    },
    {
      "metadata": {
        "id": "6E-nRN1ML304",
        "colab_type": "text"
      },
      "cell_type": "markdown",
      "source": [
        "# 2"
      ]
    },
    {
      "metadata": {
        "id": "xhvakjH5L5jP",
        "colab_type": "code",
        "colab": {}
      },
      "cell_type": "code",
      "source": [
        ""
      ],
      "execution_count": 0,
      "outputs": []
    },
    {
      "metadata": {
        "id": "D6WvVXqjL6CA",
        "colab_type": "text"
      },
      "cell_type": "markdown",
      "source": [
        "#3"
      ]
    },
    {
      "metadata": {
        "id": "cI1vIrfyL7iw",
        "colab_type": "code",
        "colab": {}
      },
      "cell_type": "code",
      "source": [
        ""
      ],
      "execution_count": 0,
      "outputs": []
    },
    {
      "metadata": {
        "id": "l13D2groL7yA",
        "colab_type": "text"
      },
      "cell_type": "markdown",
      "source": [
        "#4"
      ]
    },
    {
      "metadata": {
        "id": "1bYyB-beL840",
        "colab_type": "code",
        "colab": {}
      },
      "cell_type": "code",
      "source": [
        ""
      ],
      "execution_count": 0,
      "outputs": []
    },
    {
      "metadata": {
        "id": "STCFgmJVL-_Q",
        "colab_type": "text"
      },
      "cell_type": "markdown",
      "source": [
        "#5"
      ]
    },
    {
      "metadata": {
        "id": "KUfaJMIvL_9h",
        "colab_type": "code",
        "colab": {}
      },
      "cell_type": "code",
      "source": [
        ""
      ],
      "execution_count": 0,
      "outputs": []
    },
    {
      "metadata": {
        "id": "kYnUoNXlMBB2",
        "colab_type": "text"
      },
      "cell_type": "markdown",
      "source": [
        "#6"
      ]
    },
    {
      "metadata": {
        "id": "KzZYgdVdMBy7",
        "colab_type": "code",
        "colab": {}
      },
      "cell_type": "code",
      "source": [
        ""
      ],
      "execution_count": 0,
      "outputs": []
    },
    {
      "metadata": {
        "id": "PmiCFn3cMFQq",
        "colab_type": "text"
      },
      "cell_type": "markdown",
      "source": [
        "#7"
      ]
    },
    {
      "metadata": {
        "id": "DkRk92UDMGWE",
        "colab_type": "code",
        "colab": {}
      },
      "cell_type": "code",
      "source": [
        ""
      ],
      "execution_count": 0,
      "outputs": []
    },
    {
      "metadata": {
        "id": "bUiQuevhMGkg",
        "colab_type": "text"
      },
      "cell_type": "markdown",
      "source": [
        "#8"
      ]
    },
    {
      "metadata": {
        "id": "TyMzoxNBMHck",
        "colab_type": "code",
        "colab": {}
      },
      "cell_type": "code",
      "source": [
        ""
      ],
      "execution_count": 0,
      "outputs": []
    },
    {
      "metadata": {
        "id": "tJYMYrOuMIn7",
        "colab_type": "text"
      },
      "cell_type": "markdown",
      "source": [
        "#9"
      ]
    },
    {
      "metadata": {
        "id": "tQkaN7OdMJib",
        "colab_type": "code",
        "colab": {}
      },
      "cell_type": "code",
      "source": [
        ""
      ],
      "execution_count": 0,
      "outputs": []
    },
    {
      "metadata": {
        "id": "ms2r-bQRMKlD",
        "colab_type": "text"
      },
      "cell_type": "markdown",
      "source": [
        "#10"
      ]
    },
    {
      "metadata": {
        "id": "-1NA02klMLio",
        "colab_type": "code",
        "colab": {}
      },
      "cell_type": "code",
      "source": [
        ""
      ],
      "execution_count": 0,
      "outputs": []
    },
    {
      "metadata": {
        "id": "JX12noqQML3b",
        "colab_type": "text"
      },
      "cell_type": "markdown",
      "source": [
        "#11"
      ]
    },
    {
      "metadata": {
        "id": "3hbm8o-yMMny",
        "colab_type": "code",
        "colab": {}
      },
      "cell_type": "code",
      "source": [
        ""
      ],
      "execution_count": 0,
      "outputs": []
    },
    {
      "metadata": {
        "id": "8Vb9eYwoMNJE",
        "colab_type": "text"
      },
      "cell_type": "markdown",
      "source": [
        "#12"
      ]
    },
    {
      "metadata": {
        "id": "q1wim8duMN_C",
        "colab_type": "code",
        "colab": {}
      },
      "cell_type": "code",
      "source": [
        ""
      ],
      "execution_count": 0,
      "outputs": []
    },
    {
      "metadata": {
        "id": "5Z6uT6HjMOKZ",
        "colab_type": "text"
      },
      "cell_type": "markdown",
      "source": [
        "#13"
      ]
    },
    {
      "metadata": {
        "id": "9rMsc4F0MO37",
        "colab_type": "code",
        "colab": {}
      },
      "cell_type": "code",
      "source": [
        ""
      ],
      "execution_count": 0,
      "outputs": []
    },
    {
      "metadata": {
        "id": "2YXFxP6-MPG3",
        "colab_type": "text"
      },
      "cell_type": "markdown",
      "source": [
        "#14"
      ]
    },
    {
      "metadata": {
        "id": "mh8-Ua9QMP-a",
        "colab_type": "code",
        "colab": {}
      },
      "cell_type": "code",
      "source": [
        ""
      ],
      "execution_count": 0,
      "outputs": []
    },
    {
      "metadata": {
        "id": "R3ohQqGMMQSq",
        "colab_type": "text"
      },
      "cell_type": "markdown",
      "source": [
        "#15"
      ]
    },
    {
      "metadata": {
        "id": "eFD9SvYhMRZ4",
        "colab_type": "code",
        "colab": {}
      },
      "cell_type": "code",
      "source": [
        ""
      ],
      "execution_count": 0,
      "outputs": []
    },
    {
      "metadata": {
        "id": "cmblQAhAMRtT",
        "colab_type": "text"
      },
      "cell_type": "markdown",
      "source": [
        "#16"
      ]
    },
    {
      "metadata": {
        "id": "648Curp7MTDa",
        "colab_type": "code",
        "colab": {}
      },
      "cell_type": "code",
      "source": [
        ""
      ],
      "execution_count": 0,
      "outputs": []
    },
    {
      "metadata": {
        "id": "sDoXKXakMTV7",
        "colab_type": "text"
      },
      "cell_type": "markdown",
      "source": [
        "#17"
      ]
    },
    {
      "metadata": {
        "id": "4CdhZZk0MUsq",
        "colab_type": "code",
        "colab": {}
      },
      "cell_type": "code",
      "source": [
        ""
      ],
      "execution_count": 0,
      "outputs": []
    },
    {
      "metadata": {
        "id": "5C5tlHaZMl0e",
        "colab_type": "text"
      },
      "cell_type": "markdown",
      "source": [
        "#18"
      ]
    },
    {
      "metadata": {
        "id": "mleYggl_Mmz4",
        "colab_type": "code",
        "colab": {}
      },
      "cell_type": "code",
      "source": [
        ""
      ],
      "execution_count": 0,
      "outputs": []
    }
  ]
}